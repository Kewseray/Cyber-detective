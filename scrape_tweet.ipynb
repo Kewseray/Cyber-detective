{
 "cells": [
  {
   "cell_type": "code",
   "execution_count": 1,
   "metadata": {},
   "outputs": [
    {
     "name": "stdout",
     "output_type": "stream",
     "text": [
      "100 tweets scraped\n",
      "200 tweets scraped\n",
      "300 tweets scraped\n",
      "400 tweets scraped\n",
      "500 tweets scraped\n",
      "600 tweets scraped\n",
      "700 tweets scraped\n",
      "Final save\n"
     ]
    }
   ],
   "source": [
    "from twitter_scraper import Scraper\n",
    "\n",
    "test = Scraper(format=\"csv\")\n",
    "test.scrape(query=\"the_art_of_war\", language=\"en\", results_count=700, filepath=\"war.csv\")"
   ]
  },
  {
   "cell_type": "code",
   "execution_count": 2,
   "metadata": {},
   "outputs": [
    {
     "name": "stdout",
     "output_type": "stream",
     "text": [
      "100 tweets scraped\n",
      "200 tweets scraped\n",
      "300 tweets scraped\n",
      "400 tweets scraped\n",
      "500 tweets scraped\n",
      "600 tweets scraped\n",
      "700 tweets scraped\n",
      "Final save\n"
     ]
    }
   ],
   "source": [
    "test1 = Scraper(format=\"csv\")\n",
    "test1.scrape(query=\"the_book_thief\", language=\"en\", results_count=700, filepath=\"thief.csv\")"
   ]
  },
  {
   "cell_type": "code",
   "execution_count": 3,
   "metadata": {},
   "outputs": [
    {
     "name": "stdout",
     "output_type": "stream",
     "text": [
      "100 tweets scraped\n",
      "200 tweets scraped\n",
      "300 tweets scraped\n",
      "400 tweets scraped\n",
      "500 tweets scraped\n",
      "600 tweets scraped\n",
      "700 tweets scraped\n",
      "Final save\n"
     ]
    }
   ],
   "source": [
    "test = Scraper(format=\"csv\")\n",
    "test.scrape(query=\"the_picture_of_dorian_grey\", language=\"en\", results_count=700, filepath=\"dorian.csv\")"
   ]
  },
  {
   "cell_type": "code",
   "execution_count": 4,
   "metadata": {},
   "outputs": [
    {
     "name": "stdout",
     "output_type": "stream",
     "text": [
      "100 tweets scraped\n",
      "200 tweets scraped\n",
      "300 tweets scraped\n",
      "400 tweets scraped\n",
      "500 tweets scraped\n",
      "600 tweets scraped\n",
      "700 tweets scraped\n",
      "Final save\n"
     ]
    }
   ],
   "source": [
    "test = Scraper(format=\"csv\")\n",
    "test.scrape(query=\"the_song_of_achilles\", language=\"en\", results_count=700, filepath=\"achilles.csv\")\n",
    "\n",
    "\n"
   ]
  },
  {
   "cell_type": "code",
   "execution_count": 5,
   "metadata": {},
   "outputs": [
    {
     "name": "stdout",
     "output_type": "stream",
     "text": [
      "100 tweets scraped\n",
      "200 tweets scraped\n",
      "300 tweets scraped\n",
      "400 tweets scraped\n",
      "500 tweets scraped\n",
      "600 tweets scraped\n",
      "700 tweets scraped\n",
      "Final save\n"
     ]
    }
   ],
   "source": [
    "test = Scraper(format=\"csv\")\n",
    "test.scrape(query=\"batman_the_dark_night_return\", language=\"en\", results_count=700, filepath=\"batman.csv\")"
   ]
  },
  {
   "cell_type": "code",
   "execution_count": null,
   "metadata": {},
   "outputs": [],
   "source": []
  }
 ],
 "metadata": {
  "kernelspec": {
   "display_name": "base",
   "language": "python",
   "name": "python3"
  },
  "language_info": {
   "codemirror_mode": {
    "name": "ipython",
    "version": 3
   },
   "file_extension": ".py",
   "mimetype": "text/x-python",
   "name": "python",
   "nbconvert_exporter": "python",
   "pygments_lexer": "ipython3",
   "version": "3.9.12"
  },
  "orig_nbformat": 4,
  "vscode": {
   "interpreter": {
    "hash": "cce956dd8b59511f520788cd9362dddc117670ac5ef39c9ede8ba85a43b854a0"
   }
  }
 },
 "nbformat": 4,
 "nbformat_minor": 2
}
