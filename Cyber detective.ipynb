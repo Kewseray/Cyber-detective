{
 "cells": [
  {
   "cell_type": "code",
   "execution_count": 1,
   "id": "8ea75600",
   "metadata": {},
   "outputs": [],
   "source": [
    "import csv\n",
    "import requests\n",
    "from bs4 import BeautifulSoup\n",
    "import pandas as pd\n",
    "import html5lib"
   ]
  },
  {
   "cell_type": "code",
   "execution_count": 2,
   "id": "530e09ad",
   "metadata": {},
   "outputs": [],
   "source": [
    "book_info = []\n",
    "\n",
    "for page in range(1, 51):\n",
    "        base_url = f\"https://books.toscrape.com/catalogue/page-{page}.html\".format(page=page)\n",
    "    # Incrémentation de l'URL à chaque itération de la boucle\n",
    "\n",
    "        page = requests.get(base_url)\n",
    "\n",
    "        soup = BeautifulSoup(page.content, 'html.parser')\n",
    "        book_containers = soup.find_all('article', class_='product_pod')\n",
    "        \n",
    "        for container in book_containers:\n",
    "                book = {}\n",
    "\n",
    "    # Récupération du titre du livre\n",
    "                book['title'] = container.h3.a.text\n",
    "    # Récupération du prix du livre\n",
    "                book['price'] = container.find('div', class_='product_price').p.text\n",
    "    # Récupération de la cote du livre\n",
    "                book['rating'] = container.find('p', class_='star-rating')['class'][1]\n",
    "    # Récupération de la disponibilité du livre\n",
    "                book['availability'] = container.find('p', class_='instock availability').text\n",
    "    # Récupération du lien vers l'image de couverture du livre (optionnel)\n",
    "                book['image_link']= container.img['src']\n",
    "\n",
    "                book_info.append(book)\n",
    "                book = pd.DataFrame(data=book_info)"
   ]
  },
  {
   "cell_type": "markdown",
   "id": "fec1b989",
   "metadata": {},
   "source": []
  },
  {
   "cell_type": "markdown",
   "id": "2cce8afd",
   "metadata": {},
   "source": [
    "On peut aussi exporter la base de données en format csv avec la commande suivante : "
   ]
  },
  {
   "cell_type": "code",
   "execution_count": 3,
   "id": "d6428fec",
   "metadata": {},
   "outputs": [],
   "source": [
    "book.to_csv('book.csv')"
   ]
  },
  {
   "cell_type": "code",
   "execution_count": null,
   "id": "87168fef",
   "metadata": {},
   "outputs": [],
   "source": []
  }
 ],
 "metadata": {
  "kernelspec": {
   "display_name": "Python 3 (ipykernel)",
   "language": "python",
   "name": "python3"
  },
  "language_info": {
   "codemirror_mode": {
    "name": "ipython",
    "version": 3
   },
   "file_extension": ".py",
   "mimetype": "text/x-python",
   "name": "python",
   "nbconvert_exporter": "python",
   "pygments_lexer": "ipython3",
   "version": "3.9.12"
  },
  "vscode": {
   "interpreter": {
    "hash": "cce956dd8b59511f520788cd9362dddc117670ac5ef39c9ede8ba85a43b854a0"
   }
  }
 },
 "nbformat": 4,
 "nbformat_minor": 5
}
